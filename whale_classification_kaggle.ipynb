{
 "cells": [
  {
   "cell_type": "code",
   "execution_count": null,
   "metadata": {
    "scrolled": true
   },
   "outputs": [],
   "source": [
    "#we need to import the needed libraries\n",
    "from sklearn.model_selection import train_test_split\n",
    "import numpy as np\n",
    "from PIL import Image\n",
    "import glob \n",
    "import csv\n",
    "from keras.layers import Dense,Dropout\n",
    "from keras.models import Sequential\n",
    "from keras.layers import Activation,Conv2D,MaxPooling2D,Flatten,BatchNormalization, Input\n",
    "from keras import utils\n",
    "from keras import optimizers\n",
    "import pandas as pd\n",
    "import keras\n",
    "import MacOSFile as msf\n",
    "from keras.preprocessing.image import ImageDataGenerator\n"
   ]
  },
  {
   "cell_type": "code",
   "execution_count": null,
   "metadata": {
    "scrolled": true
   },
   "outputs": [],
   "source": [
    "# the goal of this is to basically get the data into the form that I have in the other situation.\n",
    "x = msf.pickle_load(\"whales.pkl\")\n",
    "df = pd.read_csv('input/train.csv')\n",
    "y = df['Id'].tolist()"
   ]
  },
  {
   "cell_type": "code",
   "execution_count": null,
   "metadata": {},
   "outputs": [],
   "source": [
    "count = 810\n",
    "i = 0\n",
    "while i < len(x):\n",
    "    if y[i] == 'new_whale' and count > 600:\n",
    "        del y[i]\n",
    "        del x[i]\n",
    "        count -= 1\n",
    "    else:\n",
    "        i += 1"
   ]
  },
  {
   "cell_type": "code",
   "execution_count": null,
   "metadata": {},
   "outputs": [],
   "source": [
    "#convert the labels in y to numbers to do categorical classification on. \n",
    "id_to_num = {}\n",
    "num_to_id = {}\n",
    "i = 0\n",
    "for elem in np.unique(y):\n",
    "    id_to_num[elem] = i\n",
    "    num_to_id[i] = elem\n",
    "    i += 1\n",
    "#check that the dicitonary has 4251 entries\n",
    "\n",
    "#I'm just turning each code into its own apporpriate integer.\n",
    "def convert_to_num(lis):\n",
    "    l = []\n",
    "    for i in range(len(lis)):\n",
    "        id = lis[i]\n",
    "        l.append(id_to_num[id])\n",
    "    return l\n",
    "\n",
    "def convert_to_id(lis):\n",
    "    l = []\n",
    "    for i in range(len(lis)):\n",
    "        num = lis[i]\n",
    "        print(num, num_to_id[num])\n",
    "        l.append(num_to_id[num])\n",
    "    return l\n",
    "#lets test this to make sure it works, we can extract\n",
    "#the location of where the\n",
    "y = convert_to_num(y)\n",
    "\n",
    "#I am now trying to achieve this through keras with their system\n",
    "y = utils.to_categorical(y, num_classes=4251)\n",
    "\n",
    "train_datagen = ImageDataGenerator(\n",
    "        rescale=1./255,\n",
    "        shear_range=0.2,\n",
    "        zoom_range=0.2,\n",
    "        horizontal_flip=True)\n"
   ]
  },
  {
   "cell_type": "code",
   "execution_count": null,
   "metadata": {},
   "outputs": [],
   "source": [
    "x = np.asarray(x)"
   ]
  },
  {
   "cell_type": "code",
   "execution_count": null,
   "metadata": {},
   "outputs": [],
   "source": [
    "# for i in range(len(x)):\n",
    "#     x[i] = np.asarray(x[i])\n",
    "print(x.shape, type(x))\n",
    "print(y.shape, type(y))\n",
    "print(x[0].shape, type(x[0]))\n"
   ]
  },
  {
   "cell_type": "code",
   "execution_count": null,
   "metadata": {},
   "outputs": [],
   "source": [
    "x_train, x_test, y_train, y_test = train_test_split(x,y,random_state=20)"
   ]
  },
  {
   "cell_type": "code",
   "execution_count": null,
   "metadata": {},
   "outputs": [],
   "source": [
    "print(x_train.shape)\n",
    "print(y_train.shape)\n",
    "print(x_test.shape)\n",
    "print(y_test.shape)"
   ]
  },
  {
   "cell_type": "code",
   "execution_count": null,
   "metadata": {},
   "outputs": [],
   "source": [
    "train_datagen.fit(x_train)\n",
    "test_input = msf.pickle_load(\"whales_test.pkl\")\n",
    "files = glob.glob('input/test/*.jpg')\n",
    "test_input = np.asarray(test_input)\n",
    "test_input.shape"
   ]
  },
  {
   "cell_type": "code",
   "execution_count": null,
   "metadata": {
    "scrolled": true
   },
   "outputs": [],
   "source": [
    "#I think the data might be in the correct format now. \n",
    "#now lets create the model\n",
    "adam = optimizers.Adam(lr=0.0001)\n",
    "model = Sequential()\n",
    "model.add(Conv2D(32,(3,3),padding='same',\n",
    "                 data_format = \"channels_last\",input_shape=(64,64,3)))\n",
    "model.add(BatchNormalization())\n",
    "model.add(Activation('relu'))\n",
    "model.add(MaxPooling2D(pool_size=(2, 2), strides=(2, 2)))\n",
    "model.add(Conv2D(32,(3,3),padding='same',\n",
    "                 data_format = \"channels_last\",input_shape=(64,64,3)))\n",
    "model.add(BatchNormalization())\n",
    "model.add(Activation('relu'))\n",
    "model.add(MaxPooling2D(pool_size=(2, 2), strides=(2, 2)))\n",
    "model.add(Conv2D(32,(3,3),padding='same',\n",
    "                 data_format = \"channels_last\",input_shape=(64,64,3)))\n",
    "model.add(BatchNormalization())\n",
    "model.add(Activation('relu'))\n",
    "model.add(MaxPooling2D(pool_size=(2, 2), strides=(2, 2)))\n",
    "\n",
    "# model.add(Conv2D(64, (3, 3), padding='same', activation='relu'))\n",
    "# model.add(MaxPooling2D(pool_size=(2, 2), strides=(2, 2)))\n",
    "# model.add(Conv2D(64, (3, 3), padding='same', activation='relu'))\n",
    "# model.add(MaxPooling2D(pool_size=(2, 2), strides=(2, 2)))\n",
    "# model.add(Conv2D(64, (3, 3), padding='same', activation='relu'))\n",
    "# model.add(MaxPooling2D(pool_size=(2, 2), strides=(2, 2)))\n",
    "# model.add(Conv2D(64, (3, 3), padding='same', activation='relu'))\n",
    "# model.add(MaxPooling2D(pool_size=(2, 2), strides=(2, 2)))\n",
    "model.add(Dropout(rate=.10))\n",
    "model.add(Flatten())\n",
    "model.add(Dense(100))\n",
    "model.add(Dense(4251, activation='softmax'))\n",
    "model.compile(optimizer = adam, loss = 'categorical_crossentropy', metrics = ['accuracy'])\n",
    "model.summary()"
   ]
  },
  {
   "cell_type": "code",
   "execution_count": null,
   "metadata": {
    "scrolled": false
   },
   "outputs": [],
   "source": [
    "# fits the model on batches with real-time data augmentation:\n",
    "model.fit_generator(train_datagen.flow(x, y, batch_size=500),\n",
    "                    steps_per_epoch=len(x)/500, epochs=3)\n",
    "# #now lets try and fit the model to the data, we have the same error\n",
    "# model.fit(x_train, y_train,\n",
    "#           batch_size=512,\n",
    "#           epochs=3,\n",
    "#           verbose=1,\n",
    "#           validation_data=(x_test, y_test))\n",
    "#score = model.evaluate(x_test, y_test, verbose=0)\n",
    "#print(score)\n"
   ]
  },
  {
   "cell_type": "code",
   "execution_count": null,
   "metadata": {},
   "outputs": [],
   "source": [
    "results = model.predict(test_input)"
   ]
  },
  {
   "cell_type": "code",
   "execution_count": null,
   "metadata": {
    "scrolled": true
   },
   "outputs": [],
   "source": [
    "import warnings\n",
    "from os.path import split\n",
    "\n",
    "with open(\"sample_submission.csv\",\"w\") as f:\n",
    "    with warnings.catch_warnings():\n",
    "        f.write(\"Image,Id\\n\")\n",
    "        warnings.filterwarnings(\"ignore\",category=DeprecationWarning)\n",
    "        for file,img in zip(files,test_input):\n",
    "            file_name = file[len(\"input/test/\"):]\n",
    "            results = model.predict_proba(img.reshape(1,64,64,3))\n",
    "            predicted_args = np.argsort(results)[0][::-1][:5]\n",
    "            print(predicted_args)\n",
    "            predicted_args = convert_to_id( predicted_args)\n",
    "            predicted_args = \" \".join( predicted_args)\n",
    "            f.write(\"%s,%s\\n\" %(file_name, predicted_args))"
   ]
  },
  {
   "cell_type": "code",
   "execution_count": null,
   "metadata": {},
   "outputs": [],
   "source": []
  },
  {
   "cell_type": "code",
   "execution_count": null,
   "metadata": {},
   "outputs": [],
   "source": []
  }
 ],
 "metadata": {
  "kernelspec": {
   "display_name": "Python 3",
   "language": "python",
   "name": "python3"
  },
  "language_info": {
   "codemirror_mode": {
    "name": "ipython",
    "version": 3
   },
   "file_extension": ".py",
   "mimetype": "text/x-python",
   "name": "python",
   "nbconvert_exporter": "python",
   "pygments_lexer": "ipython3",
   "version": "3.6.1"
  }
 },
 "nbformat": 4,
 "nbformat_minor": 2
}
